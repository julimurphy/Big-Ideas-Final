{
 "cells": [
  {
   "cell_type": "markdown",
   "metadata": {},
   "source": [
    "# Pandas Pros Choose the Most Fun Neighborhood for a Kid"
   ]
  },
  {
   "cell_type": "markdown",
   "metadata": {},
   "source": [
    "## Introduction\n",
    "When measuring the bestness of a neighborhood, the first thing the three of us though of were the kids that are lilving in these neighborhoods. When you think of a neighborhood you think of someplace a family lives, it is someplace with lots of schools, greenery, and fun things to keep kids occupied. At first we thought about using information on things like hospitals and daycares to get an idea of what neighborhood is the best, but in the end we decided to focus more on what would make a kid happy. "
   ]
  },
  {
   "cell_type": "markdown",
   "metadata": {},
   "source": [
    "## The Metric\n",
    "Specifically, our metic is measuring what neighborhood is the most fun for the children that live there. The features we chose to focus on to measure this are the number of trees, speedbumps, and amount of playground equipment. Each of these three features can impact kids in their everyday life, and often the more of each there are, the more ideal a neighborhood is for children and families. We are using datasets called City of Pittsburgh Trees, City of Pittsburgh Speed Humps, and Playground Equipment.\n",
    " \n",
    "The top five neighborhoods from each data set are assigned a number 1-5 based on their position (5 is given to the best). These scores will be added to help us come to a conclusion. Higher scoring neighborgoods are ideal."
   ]
  },
  {
   "cell_type": "markdown",
   "metadata": {},
   "source": [
    "# All of The Data"
   ]
  },
  {
   "cell_type": "code",
   "execution_count": 7,
   "metadata": {},
   "outputs": [],
   "source": [
    "import pandas as pd\n",
    "import numpy as mp\n",
    "%matplotlib inline\n",
    "import matplotlib.pyplot as plt"
   ]
  },
  {
   "cell_type": "markdown",
   "metadata": {},
   "source": [
    "Imports"
   ]
  },
  {
   "cell_type": "markdown",
   "metadata": {},
   "source": [
    "# Speed Bumps"
   ]
  },
  {
   "cell_type": "markdown",
   "metadata": {},
   "source": [
    "**IMPORTS -** By entering all the imports, all of the data is able to be shown."
   ]
  },
  {
   "cell_type": "code",
   "execution_count": 8,
   "metadata": {},
   "outputs": [],
   "source": [
    "import pandas as pd\n",
    "import numpy as mp\n",
    "%matplotlib inline\n",
    "import matplotlib.pyplot as plt"
   ]
  },
  {
   "cell_type": "markdown",
   "metadata": {},
   "source": [
    "**MAIN DATA -** This is the data chart that I used from the WPRDC. It shows all the neighborhoods that have speed bumps, along with additonal information. "
   ]
  },
  {
   "cell_type": "code",
   "execution_count": 9,
   "metadata": {},
   "outputs": [
    {
     "data": {
      "text/html": [
       "<div>\n",
       "<style scoped>\n",
       "    .dataframe tbody tr th:only-of-type {\n",
       "        vertical-align: middle;\n",
       "    }\n",
       "\n",
       "    .dataframe tbody tr th {\n",
       "        vertical-align: top;\n",
       "    }\n",
       "\n",
       "    .dataframe thead th {\n",
       "        text-align: right;\n",
       "    }\n",
       "</style>\n",
       "<table border=\"1\" class=\"dataframe\">\n",
       "  <thead>\n",
       "    <tr style=\"text-align: right;\">\n",
       "      <th></th>\n",
       "      <th>id</th>\n",
       "      <th>hump_id</th>\n",
       "      <th>locator_address_number</th>\n",
       "      <th>locator_street</th>\n",
       "      <th>pavement</th>\n",
       "      <th>speed_hump_material</th>\n",
       "      <th>neighborhood</th>\n",
       "      <th>council_district</th>\n",
       "      <th>ward</th>\n",
       "      <th>tract</th>\n",
       "      <th>public_works_division</th>\n",
       "      <th>pli_division</th>\n",
       "      <th>police_zone</th>\n",
       "      <th>fire_zone</th>\n",
       "      <th>latitude</th>\n",
       "      <th>longitude</th>\n",
       "    </tr>\n",
       "  </thead>\n",
       "  <tbody>\n",
       "    <tr>\n",
       "      <th>0</th>\n",
       "      <td>430808404</td>\n",
       "      <td>1</td>\n",
       "      <td>4337.0</td>\n",
       "      <td>Saline St</td>\n",
       "      <td>9257</td>\n",
       "      <td>Asphalt</td>\n",
       "      <td>Squirrel Hill South</td>\n",
       "      <td>5</td>\n",
       "      <td>14</td>\n",
       "      <td>42003141400</td>\n",
       "      <td>3</td>\n",
       "      <td>14</td>\n",
       "      <td>4</td>\n",
       "      <td>2-15</td>\n",
       "      <td>40.419835</td>\n",
       "      <td>-79.926062</td>\n",
       "    </tr>\n",
       "    <tr>\n",
       "      <th>1</th>\n",
       "      <td>1520886592</td>\n",
       "      <td>2</td>\n",
       "      <td>NaN</td>\n",
       "      <td>Summerset Dr</td>\n",
       "      <td>15346</td>\n",
       "      <td>NaN</td>\n",
       "      <td>Squirrel Hill South</td>\n",
       "      <td>5</td>\n",
       "      <td>14</td>\n",
       "      <td>42003141400</td>\n",
       "      <td>3</td>\n",
       "      <td>14</td>\n",
       "      <td>4</td>\n",
       "      <td>2-20</td>\n",
       "      <td>40.425040</td>\n",
       "      <td>-79.912040</td>\n",
       "    </tr>\n",
       "    <tr>\n",
       "      <th>2</th>\n",
       "      <td>858537521</td>\n",
       "      <td>3</td>\n",
       "      <td>511.0</td>\n",
       "      <td>Gold Way</td>\n",
       "      <td>1755</td>\n",
       "      <td>Asphalt</td>\n",
       "      <td>North Oakland</td>\n",
       "      <td>6</td>\n",
       "      <td>5</td>\n",
       "      <td>42003562000</td>\n",
       "      <td>3</td>\n",
       "      <td>5</td>\n",
       "      <td>4</td>\n",
       "      <td>2-23</td>\n",
       "      <td>40.456746</td>\n",
       "      <td>-79.954521</td>\n",
       "    </tr>\n",
       "    <tr>\n",
       "      <th>3</th>\n",
       "      <td>297775878</td>\n",
       "      <td>4</td>\n",
       "      <td>547.0</td>\n",
       "      <td>Gold Way</td>\n",
       "      <td>1755</td>\n",
       "      <td>Asphalt</td>\n",
       "      <td>North Oakland</td>\n",
       "      <td>6</td>\n",
       "      <td>5</td>\n",
       "      <td>42003562000</td>\n",
       "      <td>3</td>\n",
       "      <td>5</td>\n",
       "      <td>4</td>\n",
       "      <td>2-23</td>\n",
       "      <td>40.457333</td>\n",
       "      <td>-79.954899</td>\n",
       "    </tr>\n",
       "    <tr>\n",
       "      <th>4</th>\n",
       "      <td>1061197751</td>\n",
       "      <td>5</td>\n",
       "      <td>593.0</td>\n",
       "      <td>Gold Way</td>\n",
       "      <td>1755</td>\n",
       "      <td>Asphalt</td>\n",
       "      <td>North Oakland</td>\n",
       "      <td>6</td>\n",
       "      <td>5</td>\n",
       "      <td>42003562000</td>\n",
       "      <td>3</td>\n",
       "      <td>5</td>\n",
       "      <td>4</td>\n",
       "      <td>2-23</td>\n",
       "      <td>40.458061</td>\n",
       "      <td>-79.955355</td>\n",
       "    </tr>\n",
       "    <tr>\n",
       "      <th>5</th>\n",
       "      <td>25169591</td>\n",
       "      <td>10</td>\n",
       "      <td>4224.0</td>\n",
       "      <td>Saline St</td>\n",
       "      <td>4673</td>\n",
       "      <td>Asphalt</td>\n",
       "      <td>Squirrel Hill South</td>\n",
       "      <td>5</td>\n",
       "      <td>15</td>\n",
       "      <td>42003141400</td>\n",
       "      <td>3</td>\n",
       "      <td>15</td>\n",
       "      <td>4</td>\n",
       "      <td>2-15</td>\n",
       "      <td>40.422239</td>\n",
       "      <td>-79.926208</td>\n",
       "    </tr>\n",
       "    <tr>\n",
       "      <th>6</th>\n",
       "      <td>2056880845</td>\n",
       "      <td>11</td>\n",
       "      <td>2146.0</td>\n",
       "      <td>Jacob St</td>\n",
       "      <td>17688</td>\n",
       "      <td>Asphalt</td>\n",
       "      <td>Brookline</td>\n",
       "      <td>4</td>\n",
       "      <td>32</td>\n",
       "      <td>42003320600</td>\n",
       "      <td>5</td>\n",
       "      <td>32</td>\n",
       "      <td>6</td>\n",
       "      <td>4-25</td>\n",
       "      <td>40.391643</td>\n",
       "      <td>-79.999307</td>\n",
       "    </tr>\n",
       "    <tr>\n",
       "      <th>7</th>\n",
       "      <td>1735565853</td>\n",
       "      <td>12</td>\n",
       "      <td>2082.0</td>\n",
       "      <td>Jacob St</td>\n",
       "      <td>17688</td>\n",
       "      <td>Asphalt</td>\n",
       "      <td>Brookline</td>\n",
       "      <td>4</td>\n",
       "      <td>32</td>\n",
       "      <td>42003320600</td>\n",
       "      <td>5</td>\n",
       "      <td>32</td>\n",
       "      <td>6</td>\n",
       "      <td>4-25</td>\n",
       "      <td>40.392425</td>\n",
       "      <td>-79.999259</td>\n",
       "    </tr>\n",
       "    <tr>\n",
       "      <th>8</th>\n",
       "      <td>857069875</td>\n",
       "      <td>13</td>\n",
       "      <td>2013.0</td>\n",
       "      <td>Jacob St</td>\n",
       "      <td>17688</td>\n",
       "      <td>Asphalt</td>\n",
       "      <td>Brookline</td>\n",
       "      <td>4</td>\n",
       "      <td>32</td>\n",
       "      <td>42003320600</td>\n",
       "      <td>5</td>\n",
       "      <td>32</td>\n",
       "      <td>6</td>\n",
       "      <td>4-25</td>\n",
       "      <td>40.393264</td>\n",
       "      <td>-79.999401</td>\n",
       "    </tr>\n",
       "    <tr>\n",
       "      <th>9</th>\n",
       "      <td>1822275525</td>\n",
       "      <td>14</td>\n",
       "      <td>1937.0</td>\n",
       "      <td>Jacob St</td>\n",
       "      <td>17688</td>\n",
       "      <td>Asphalt</td>\n",
       "      <td>Brookline</td>\n",
       "      <td>4</td>\n",
       "      <td>32</td>\n",
       "      <td>42003320600</td>\n",
       "      <td>5</td>\n",
       "      <td>32</td>\n",
       "      <td>6</td>\n",
       "      <td>4-25</td>\n",
       "      <td>40.394180</td>\n",
       "      <td>-79.999611</td>\n",
       "    </tr>\n",
       "  </tbody>\n",
       "</table>\n",
       "</div>"
      ],
      "text/plain": [
       "           id  hump_id  locator_address_number locator_street  pavement  \\\n",
       "0   430808404        1                  4337.0      Saline St      9257   \n",
       "1  1520886592        2                     NaN   Summerset Dr     15346   \n",
       "2   858537521        3                   511.0       Gold Way      1755   \n",
       "3   297775878        4                   547.0       Gold Way      1755   \n",
       "4  1061197751        5                   593.0       Gold Way      1755   \n",
       "5    25169591       10                  4224.0      Saline St      4673   \n",
       "6  2056880845       11                  2146.0       Jacob St     17688   \n",
       "7  1735565853       12                  2082.0       Jacob St     17688   \n",
       "8   857069875       13                  2013.0       Jacob St     17688   \n",
       "9  1822275525       14                  1937.0       Jacob St     17688   \n",
       "\n",
       "  speed_hump_material         neighborhood  council_district  ward  \\\n",
       "0             Asphalt  Squirrel Hill South                 5    14   \n",
       "1                 NaN  Squirrel Hill South                 5    14   \n",
       "2             Asphalt        North Oakland                 6     5   \n",
       "3             Asphalt        North Oakland                 6     5   \n",
       "4             Asphalt        North Oakland                 6     5   \n",
       "5             Asphalt  Squirrel Hill South                 5    15   \n",
       "6             Asphalt            Brookline                 4    32   \n",
       "7             Asphalt            Brookline                 4    32   \n",
       "8             Asphalt            Brookline                 4    32   \n",
       "9             Asphalt            Brookline                 4    32   \n",
       "\n",
       "         tract  public_works_division  pli_division  police_zone fire_zone  \\\n",
       "0  42003141400                      3            14            4      2-15   \n",
       "1  42003141400                      3            14            4      2-20   \n",
       "2  42003562000                      3             5            4      2-23   \n",
       "3  42003562000                      3             5            4      2-23   \n",
       "4  42003562000                      3             5            4      2-23   \n",
       "5  42003141400                      3            15            4      2-15   \n",
       "6  42003320600                      5            32            6      4-25   \n",
       "7  42003320600                      5            32            6      4-25   \n",
       "8  42003320600                      5            32            6      4-25   \n",
       "9  42003320600                      5            32            6      4-25   \n",
       "\n",
       "    latitude  longitude  \n",
       "0  40.419835 -79.926062  \n",
       "1  40.425040 -79.912040  \n",
       "2  40.456746 -79.954521  \n",
       "3  40.457333 -79.954899  \n",
       "4  40.458061 -79.955355  \n",
       "5  40.422239 -79.926208  \n",
       "6  40.391643 -79.999307  \n",
       "7  40.392425 -79.999259  \n",
       "8  40.393264 -79.999401  \n",
       "9  40.394180 -79.999611  "
      ]
     },
     "execution_count": 9,
     "metadata": {},
     "output_type": "execute_result"
    }
   ],
   "source": [
    "data = pd.read_csv(\"PittSpeedBumps.csv\")\n",
    "data.head(10)"
   ]
  },
  {
   "cell_type": "markdown",
   "metadata": {},
   "source": [
    "**LISTED DATA -** This code prints out a list of the number of speed bumps per neighborhood"
   ]
  },
  {
   "cell_type": "code",
   "execution_count": 10,
   "metadata": {},
   "outputs": [
    {
     "name": "stdout",
     "output_type": "stream",
     "text": [
      "Squirrel Hill South    18\n",
      "Carrick                 9\n",
      "Polish Hill             6\n",
      "North Oakland           6\n",
      "Upper Hill              4\n",
      "Brookline               4\n",
      "Homewood South          4\n",
      "South Side Slopes       4\n",
      "Perry North             4\n",
      "Garfield                3\n",
      "Squirrel Hill North     3\n",
      "South Side Flats        3\n",
      "Mount Washington        3\n",
      "Bloomfield              3\n",
      "Highland Park           2\n",
      "Central Oakland         1\n",
      "Stanton Heights         1\n",
      "Overbrook               1\n",
      "Name: neighborhood, dtype: int64\n"
     ]
    }
   ],
   "source": [
    "speed = pd.read_csv(\"PittSpeedBumps.csv\", low_memory=False)\n",
    "num_speed = speed[\"neighborhood\"].value_counts()\n",
    "print(num_speed)"
   ]
  },
  {
   "cell_type": "markdown",
   "metadata": {},
   "source": [
    "**PLOTTED DATA** - This shows a graph of the speed bumps per neighborhood"
   ]
  },
  {
   "cell_type": "code",
   "execution_count": 11,
   "metadata": {},
   "outputs": [
    {
     "data": {
      "text/plain": [
       "<matplotlib.axes._subplots.AxesSubplot at 0x7f98c8fb7070>"
      ]
     },
     "execution_count": 11,
     "metadata": {},
     "output_type": "execute_result"
    },
    {
     "data": {
      "image/png": "[encoded data removed]",
      "text/plain": [
       "<Figure size 432x288 with 1 Axes>"
      ]
     },
     "metadata": {
      "needs_background": "light"
     },
     "output_type": "display_data"
    }
   ],
   "source": [
    "num_speed.plot.bar()"
   ]
  },
  {
   "cell_type": "markdown",
   "metadata": {},
   "source": [
    "**Mini Conclusion:** From the data, it is definitely shown that Squirrel Hill South has the most speed bumps out of any other neighborhood, allowing kids to have safer roads around them since the speed of the cars are more limited. The runner ups are Carrick and Polish Hill. \n",
    "\n",
    "5-Squirrel Hill South \n",
    "\n",
    "4-Carrick \n",
    "\n",
    "3-Polish Hill\n",
    "\n",
    "2-North Oakland \n",
    "\n",
    "1-Upper Hill"
   ]
  },
  {
   "cell_type": "markdown",
   "metadata": {},
   "source": [
    "# Playground\n",
    "There were two data sets available that had to do with playgrounds in Pittsburgh, and the one I chose had to do with the individual pieces of equipment on each playground. I decided to go this route because even if there are a few playgrounds, if they only have two or three pieces of equipment, it would not be suitable for a neighborhood full of kids. They would start fighting over things like swings, or playing on parts of the equipment that aren’t meant to be played on and could end up hurting themselves. A large number of playground equipment also indicates that there are other children in the neighborhood. For parents who want their children to be able to get to know their neighbors, this is a desirable quality. By adding up the amount of equipment per neighborhood, a potential house buyer would be able to get a better idea of which neighborhood would seem more exciting and safe for their child. "
   ]
  },
  {
   "cell_type": "code",
   "execution_count": 12,
   "metadata": {},
   "outputs": [
    {
     "data": {
      "text/html": [
       "<div>\n",
       "<style scoped>\n",
       "    .dataframe tbody tr th:only-of-type {\n",
       "        vertical-align: middle;\n",
       "    }\n",
       "\n",
       "    .dataframe tbody tr th {\n",
       "        vertical-align: top;\n",
       "    }\n",
       "\n",
       "    .dataframe thead th {\n",
       "        text-align: right;\n",
       "    }\n",
       "</style>\n",
       "<table border=\"1\" class=\"dataframe\">\n",
       "  <thead>\n",
       "    <tr style=\"text-align: right;\">\n",
       "      <th></th>\n",
       "      <th>id</th>\n",
       "      <th>name</th>\n",
       "      <th>equipment_type</th>\n",
       "      <th>manufacturer</th>\n",
       "      <th>safety_surface_type</th>\n",
       "      <th>ada_accessible</th>\n",
       "      <th>street_number</th>\n",
       "      <th>street</th>\n",
       "      <th>neighborhood</th>\n",
       "      <th>council_district</th>\n",
       "      <th>ward</th>\n",
       "      <th>tract</th>\n",
       "      <th>public_works_division</th>\n",
       "      <th>pli_division</th>\n",
       "      <th>police_zone</th>\n",
       "      <th>fire_zone</th>\n",
       "      <th>latitude</th>\n",
       "      <th>longitude</th>\n",
       "    </tr>\n",
       "  </thead>\n",
       "  <tbody>\n",
       "    <tr>\n",
       "      <th>0</th>\n",
       "      <td>1780722587</td>\n",
       "      <td>Able Long Playground</td>\n",
       "      <td>Play Area 2 to 5</td>\n",
       "      <td>Little Tykes</td>\n",
       "      <td>Pour in Place</td>\n",
       "      <td>f</td>\n",
       "      <td>211.0</td>\n",
       "      <td>Coast Ave</td>\n",
       "      <td>Beechview</td>\n",
       "      <td>4</td>\n",
       "      <td>19</td>\n",
       "      <td>42003192000</td>\n",
       "      <td>5</td>\n",
       "      <td>19</td>\n",
       "      <td>6</td>\n",
       "      <td>4-28</td>\n",
       "      <td>40.408381</td>\n",
       "      <td>-80.028520</td>\n",
       "    </tr>\n",
       "    <tr>\n",
       "      <th>1</th>\n",
       "      <td>702514290</td>\n",
       "      <td>North Ave. Playground</td>\n",
       "      <td>Play Area 2 to 5</td>\n",
       "      <td>Playworld</td>\n",
       "      <td>SofSurfaces</td>\n",
       "      <td>f</td>\n",
       "      <td>377.0</td>\n",
       "      <td>W North Ave</td>\n",
       "      <td>Allegheny Center</td>\n",
       "      <td>1</td>\n",
       "      <td>22</td>\n",
       "      <td>42003562700</td>\n",
       "      <td>1</td>\n",
       "      <td>22</td>\n",
       "      <td>1</td>\n",
       "      <td>1-7</td>\n",
       "      <td>40.454526</td>\n",
       "      <td>-80.010188</td>\n",
       "    </tr>\n",
       "    <tr>\n",
       "      <th>2</th>\n",
       "      <td>1267038491</td>\n",
       "      <td>Vietnam Veteran's Playground</td>\n",
       "      <td>Slide</td>\n",
       "      <td>Little Tykes</td>\n",
       "      <td>SofSurfaces</td>\n",
       "      <td>f</td>\n",
       "      <td>108.0</td>\n",
       "      <td>Panther Hollow Rd</td>\n",
       "      <td>Squirrel Hill South</td>\n",
       "      <td>5</td>\n",
       "      <td>14</td>\n",
       "      <td>42003980500</td>\n",
       "      <td>3</td>\n",
       "      <td>14</td>\n",
       "      <td>4</td>\n",
       "      <td>2-8</td>\n",
       "      <td>40.434185</td>\n",
       "      <td>-79.944323</td>\n",
       "    </tr>\n",
       "    <tr>\n",
       "      <th>3</th>\n",
       "      <td>14898932</td>\n",
       "      <td>Schenley Overlook Playground</td>\n",
       "      <td>Swing 2 Bays</td>\n",
       "      <td>Little Tykes</td>\n",
       "      <td>SofSurfaces</td>\n",
       "      <td>t</td>\n",
       "      <td>NaN</td>\n",
       "      <td>Overlook Dr</td>\n",
       "      <td>Squirrel Hill South</td>\n",
       "      <td>5</td>\n",
       "      <td>14</td>\n",
       "      <td>42003980500</td>\n",
       "      <td>3</td>\n",
       "      <td>14</td>\n",
       "      <td>4</td>\n",
       "      <td>2-8</td>\n",
       "      <td>40.432130</td>\n",
       "      <td>-79.947774</td>\n",
       "    </tr>\n",
       "    <tr>\n",
       "      <th>4</th>\n",
       "      <td>204832406</td>\n",
       "      <td>Schenley Overlook Playground</td>\n",
       "      <td>Slide</td>\n",
       "      <td>Little Tykes</td>\n",
       "      <td>SofSurfaces</td>\n",
       "      <td>f</td>\n",
       "      <td>NaN</td>\n",
       "      <td>Overlook Dr</td>\n",
       "      <td>Squirrel Hill South</td>\n",
       "      <td>5</td>\n",
       "      <td>14</td>\n",
       "      <td>42003980500</td>\n",
       "      <td>3</td>\n",
       "      <td>14</td>\n",
       "      <td>4</td>\n",
       "      <td>2-8</td>\n",
       "      <td>40.432215</td>\n",
       "      <td>-79.947817</td>\n",
       "    </tr>\n",
       "  </tbody>\n",
       "</table>\n",
       "</div>"
      ],
      "text/plain": [
       "           id                          name    equipment_type  manufacturer  \\\n",
       "0  1780722587          Able Long Playground  Play Area 2 to 5  Little Tykes   \n",
       "1   702514290         North Ave. Playground  Play Area 2 to 5     Playworld   \n",
       "2  1267038491  Vietnam Veteran's Playground             Slide  Little Tykes   \n",
       "3    14898932  Schenley Overlook Playground      Swing 2 Bays  Little Tykes   \n",
       "4   204832406  Schenley Overlook Playground             Slide  Little Tykes   \n",
       "\n",
       "  safety_surface_type ada_accessible  street_number             street  \\\n",
       "0       Pour in Place              f          211.0          Coast Ave   \n",
       "1         SofSurfaces              f          377.0        W North Ave   \n",
       "2         SofSurfaces              f          108.0  Panther Hollow Rd   \n",
       "3         SofSurfaces              t            NaN        Overlook Dr   \n",
       "4         SofSurfaces              f            NaN        Overlook Dr   \n",
       "\n",
       "          neighborhood  council_district  ward        tract  \\\n",
       "0            Beechview                 4    19  42003192000   \n",
       "1     Allegheny Center                 1    22  42003562700   \n",
       "2  Squirrel Hill South                 5    14  42003980500   \n",
       "3  Squirrel Hill South                 5    14  42003980500   \n",
       "4  Squirrel Hill South                 5    14  42003980500   \n",
       "\n",
       "   public_works_division  pli_division  police_zone fire_zone   latitude  \\\n",
       "0                      5            19            6      4-28  40.408381   \n",
       "1                      1            22            1       1-7  40.454526   \n",
       "2                      3            14            4       2-8  40.434185   \n",
       "3                      3            14            4       2-8  40.432130   \n",
       "4                      3            14            4       2-8  40.432215   \n",
       "\n",
       "   longitude  \n",
       "0 -80.028520  \n",
       "1 -80.010188  \n",
       "2 -79.944323  \n",
       "3 -79.947774  \n",
       "4 -79.947817  "
      ]
     },
     "execution_count": 12,
     "metadata": {},
     "output_type": "execute_result"
    }
   ],
   "source": [
    "data = pd.read_csv(\"playgrounds.csv\")\n",
    "data.head(5)"
   ]
  },
  {
   "cell_type": "markdown",
   "metadata": {},
   "source": [
    "Before making a visualization I counted up each of the values and displayed them in a dictionary. This way I could easily read each of the values, decide on an appropriate threshold sum of the equipment per neighborhood, and only use values greater than or equal to that value in the graph. "
   ]
  },
  {
   "cell_type": "code",
   "execution_count": 13,
   "metadata": {},
   "outputs": [
    {
     "name": "stdout",
     "output_type": "stream",
     "text": [
      "{'Beechview': 21, 'Allegheny Center': 15, 'Squirrel Hill South': 32, 'Windgap': 5, 'Perry South': 3, 'Crafton Heights': 5, 'Fineview': 8, 'Terrace Village': 4, 'Hazelwood': 13, 'Lincoln Place': 9, 'Sheraden': 13, 'Brookline': 7, 'Oakwood': 4, 'New Homestead': 5, 'South Side Slopes': 14, 'Upper Hill': 5, 'Brighton Heights': 8, 'Allentown': 4, 'East Liberty': 26, 'Highland Park': 10, 'Central Northside': 4, 'Bloomfield': 7, 'Mount Washington': 10, 'Shadyside': 5, 'Westwood': 2, 'Hays': 3, 'Polish Hill': 4, 'Central Oakland': 2, 'Lincoln-Lemington-Belmar': 6, 'Esplen': 2, 'Greenfield': 7, 'Crawford-Roberts': 8, 'Bedford Dwellings': 3, 'Marshall-Shadeland': 5, 'Beltzhoover': 10, 'West Oakland': 1, 'Elliott': 11, 'Spring Garden': 3, 'Homewood West': 4, 'Strip District': 1, 'Stanton Heights': 3, 'East Carnegie': 2, 'Upper Lawrenceville': 5, 'South Oakland': 9, 'Morningside': 5, 'South Side Flats': 5, 'Central Lawrenceville': 3, 'Manchester': 7, 'Garfield': 9, 'Lower Lawrenceville': 2, 'Carrick': 7, 'Spring Hill-City View': 3, 'Bluff': 2, 'Middle Hill': 3, 'Banksville': 6, 'West End': 3, 'Point Breeze North': 3, 'Troy Hill': 7, 'Larimer': 3, 'Duquesne Heights': 4, 'Homewood North': 4, 'Swisshelm Park': 6, 'Bon Air': 3, 'Regent Square': 9, 'Fairywood': 4, 'Perry North': 6, 'Squirrel Hill North': 10, 'East Allegheny': 3}\n"
     ]
    }
   ],
   "source": [
    "d = {}\n",
    "\n",
    "for index,row in data.iterrows():\n",
    "    stat = True\n",
    "    n = row[\"neighborhood\"]\n",
    "    for name in d:\n",
    "        if(name == n):\n",
    "            d[name] = d[name] + 1\n",
    "            stat = False\n",
    "    if(stat):\n",
    "        d[n] = 1\n",
    "print(d)"
   ]
  },
  {
   "cell_type": "markdown",
   "metadata": {},
   "source": [
    "I made the threshold value 9 in order to show the top 12 neighborhoods in my graph. Whilll of these neighborhoods now have evidence for being suitable for larger amounts of children to have fun, with Squirrel Hill South being the obvious best choice based on this feature alone. "
   ]
  },
  {
   "cell_type": "code",
   "execution_count": 14,
   "metadata": {},
   "outputs": [
    {
     "name": "stdout",
     "output_type": "stream",
     "text": [
      "Squirrel Hill South    32\n",
      "East Liberty           26\n",
      "Beechview              21\n",
      "Allegheny Center       15\n",
      "South Side Slopes      14\n",
      "Hazelwood              13\n",
      "Sheraden               13\n",
      "Elliott                11\n",
      "Squirrel Hill North    10\n",
      "Mount Washington       10\n",
      "Highland Park          10\n",
      "Beltzhoover            10\n",
      "Name: neighborhood, dtype: int64\n"
     ]
    }
   ],
   "source": [
    "good_park = data[\"neighborhood\"].value_counts()\n",
    "park_query_mask = good_park > 9\n",
    "fun = good_park[park_query_mask]\n",
    "print(fun)"
   ]
  },
  {
   "cell_type": "code",
   "execution_count": 15,
   "metadata": {},
   "outputs": [
    {
     "data": {
      "text/plain": [
       "<matplotlib.axes._subplots.AxesSubplot at 0x7f98c87a20a0>"
      ]
     },
     "execution_count": 15,
     "metadata": {},
     "output_type": "execute_result"
    },
    {
     "data": {
      "image/png": "[encoded data removed]",
      "text/plain": [
       "<Figure size 432x288 with 1 Axes>"
      ]
     },
     "metadata": {
      "needs_background": "light"
     },
     "output_type": "display_data"
    }
   ],
   "source": [
    "fun.plot(kind = \"bar\", rot = 75)"
   ]
  },
  {
   "cell_type": "markdown",
   "metadata": {},
   "source": [
    "Now, to be able to combine the results from this data set with the others, we once again assigned number 5-1 for the first five neighborhoods listed. \n",
    "\n",
    "5-Squirrel Hill South\n",
    "\n",
    "4-East Liberty\n",
    "\n",
    "3-Beechview\n",
    "\n",
    "2-Allegheny Center\n",
    "\n",
    "1-South Side Slopes"
   ]
  },
  {
   "cell_type": "markdown",
   "metadata": {},
   "source": [
    "# Tree Data"
   ]
  },
  {
   "cell_type": "markdown",
   "metadata": {},
   "source": [
    "Obviously, when deciding the most fun neighborhood for a kid to live, the amount of trees is very important. Climbing trees is an essential part of the kid expereince. Neighborhoods with more trees are ideal."
   ]
  },
  {
   "cell_type": "code",
   "execution_count": 19,
   "metadata": {},
   "outputs": [
    {
     "data": {
      "text/html": [
       "<div>\n",
       "<style scoped>\n",
       "    .dataframe tbody tr th:only-of-type {\n",
       "        vertical-align: middle;\n",
       "    }\n",
       "\n",
       "    .dataframe tbody tr th {\n",
       "        vertical-align: top;\n",
       "    }\n",
       "\n",
       "    .dataframe thead th {\n",
       "        text-align: right;\n",
       "    }\n",
       "</style>\n",
       "<table border=\"1\" class=\"dataframe\">\n",
       "  <thead>\n",
       "    <tr style=\"text-align: right;\">\n",
       "      <th></th>\n",
       "      <th>id</th>\n",
       "      <th>address_number</th>\n",
       "      <th>street</th>\n",
       "      <th>common_name</th>\n",
       "      <th>scientific_name</th>\n",
       "      <th>height</th>\n",
       "      <th>width</th>\n",
       "      <th>growth_space_length</th>\n",
       "      <th>growth_space_width</th>\n",
       "      <th>growth_space_type</th>\n",
       "      <th>...</th>\n",
       "      <th>neighborhood</th>\n",
       "      <th>council_district</th>\n",
       "      <th>ward</th>\n",
       "      <th>tract</th>\n",
       "      <th>public_works_division</th>\n",
       "      <th>pli_division</th>\n",
       "      <th>police_zone</th>\n",
       "      <th>fire_zone</th>\n",
       "      <th>latitude</th>\n",
       "      <th>longitude</th>\n",
       "    </tr>\n",
       "  </thead>\n",
       "  <tbody>\n",
       "    <tr>\n",
       "      <th>0</th>\n",
       "      <td>754166088</td>\n",
       "      <td>7428</td>\n",
       "      <td>MONTICELLO ST</td>\n",
       "      <td>Stump</td>\n",
       "      <td>Stump</td>\n",
       "      <td>0.0</td>\n",
       "      <td>0.0</td>\n",
       "      <td>10.0</td>\n",
       "      <td>2.0</td>\n",
       "      <td>Well or Pit</td>\n",
       "      <td>...</td>\n",
       "      <td>Homewood North</td>\n",
       "      <td>9.0</td>\n",
       "      <td>13.0</td>\n",
       "      <td>4.200313e+10</td>\n",
       "      <td>2.0</td>\n",
       "      <td>13.0</td>\n",
       "      <td>5.0</td>\n",
       "      <td>3-17</td>\n",
       "      <td>40.458169</td>\n",
       "      <td>-79.889724</td>\n",
       "    </tr>\n",
       "    <tr>\n",
       "      <th>1</th>\n",
       "      <td>1946899269</td>\n",
       "      <td>220</td>\n",
       "      <td>BALVER AVE</td>\n",
       "      <td>Linden: Littleleaf</td>\n",
       "      <td>Tilia cordata</td>\n",
       "      <td>0.0</td>\n",
       "      <td>0.0</td>\n",
       "      <td>99.0</td>\n",
       "      <td>99.0</td>\n",
       "      <td>Open or Unrestricted</td>\n",
       "      <td>...</td>\n",
       "      <td>Oakwood</td>\n",
       "      <td>2.0</td>\n",
       "      <td>28.0</td>\n",
       "      <td>4.200356e+10</td>\n",
       "      <td>5.0</td>\n",
       "      <td>28.0</td>\n",
       "      <td>6.0</td>\n",
       "      <td>1-19</td>\n",
       "      <td>40.429269</td>\n",
       "      <td>-80.067868</td>\n",
       "    </tr>\n",
       "    <tr>\n",
       "      <th>2</th>\n",
       "      <td>1431517397</td>\n",
       "      <td>2822</td>\n",
       "      <td>SIDNEY ST</td>\n",
       "      <td>Maple: Red</td>\n",
       "      <td>Acer rubrum</td>\n",
       "      <td>22.0</td>\n",
       "      <td>6.0</td>\n",
       "      <td>6.0</td>\n",
       "      <td>3.0</td>\n",
       "      <td>Well or Pit</td>\n",
       "      <td>...</td>\n",
       "      <td>South Side Flats</td>\n",
       "      <td>3.0</td>\n",
       "      <td>16.0</td>\n",
       "      <td>4.200316e+10</td>\n",
       "      <td>3.0</td>\n",
       "      <td>16.0</td>\n",
       "      <td>3.0</td>\n",
       "      <td>4-24</td>\n",
       "      <td>40.426797</td>\n",
       "      <td>-79.965035</td>\n",
       "    </tr>\n",
       "    <tr>\n",
       "      <th>3</th>\n",
       "      <td>994063598</td>\n",
       "      <td>608</td>\n",
       "      <td>SUISMON ST</td>\n",
       "      <td>Maple: Freeman</td>\n",
       "      <td>Acer x freemanii</td>\n",
       "      <td>25.0</td>\n",
       "      <td>10.0</td>\n",
       "      <td>3.0</td>\n",
       "      <td>3.0</td>\n",
       "      <td>Well or Pit</td>\n",
       "      <td>...</td>\n",
       "      <td>East Allegheny</td>\n",
       "      <td>1.0</td>\n",
       "      <td>23.0</td>\n",
       "      <td>4.200356e+10</td>\n",
       "      <td>1.0</td>\n",
       "      <td>23.0</td>\n",
       "      <td>1.0</td>\n",
       "      <td>1-6</td>\n",
       "      <td>40.455503</td>\n",
       "      <td>-79.999276</td>\n",
       "    </tr>\n",
       "    <tr>\n",
       "      <th>4</th>\n",
       "      <td>1591838573</td>\n",
       "      <td>1135</td>\n",
       "      <td>N NEGLEY AVE</td>\n",
       "      <td>Maple: Norway</td>\n",
       "      <td>Acer platanoides</td>\n",
       "      <td>52.0</td>\n",
       "      <td>13.0</td>\n",
       "      <td>99.0</td>\n",
       "      <td>99.0</td>\n",
       "      <td>Open or Unrestricted</td>\n",
       "      <td>...</td>\n",
       "      <td>Highland Park</td>\n",
       "      <td>7.0</td>\n",
       "      <td>11.0</td>\n",
       "      <td>4.200311e+10</td>\n",
       "      <td>2.0</td>\n",
       "      <td>11.0</td>\n",
       "      <td>5.0</td>\n",
       "      <td>3-9</td>\n",
       "      <td>40.476667</td>\n",
       "      <td>-79.924106</td>\n",
       "    </tr>\n",
       "  </tbody>\n",
       "</table>\n",
       "<p>5 rows × 58 columns</p>\n",
       "</div>"
      ],
      "text/plain": [
       "           id address_number         street         common_name  \\\n",
       "0   754166088           7428  MONTICELLO ST               Stump   \n",
       "1  1946899269            220     BALVER AVE  Linden: Littleleaf   \n",
       "2  1431517397           2822      SIDNEY ST          Maple: Red   \n",
       "3   994063598            608     SUISMON ST      Maple: Freeman   \n",
       "4  1591838573           1135   N NEGLEY AVE       Maple: Norway   \n",
       "\n",
       "    scientific_name  height  width  growth_space_length  growth_space_width  \\\n",
       "0             Stump     0.0    0.0                 10.0                 2.0   \n",
       "1     Tilia cordata     0.0    0.0                 99.0                99.0   \n",
       "2       Acer rubrum    22.0    6.0                  6.0                 3.0   \n",
       "3  Acer x freemanii    25.0   10.0                  3.0                 3.0   \n",
       "4  Acer platanoides    52.0   13.0                 99.0                99.0   \n",
       "\n",
       "      growth_space_type  ...      neighborhood  council_district  ward  \\\n",
       "0           Well or Pit  ...    Homewood North               9.0  13.0   \n",
       "1  Open or Unrestricted  ...           Oakwood               2.0  28.0   \n",
       "2           Well or Pit  ...  South Side Flats               3.0  16.0   \n",
       "3           Well or Pit  ...    East Allegheny               1.0  23.0   \n",
       "4  Open or Unrestricted  ...     Highland Park               7.0  11.0   \n",
       "\n",
       "          tract public_works_division  pli_division  police_zone  fire_zone  \\\n",
       "0  4.200313e+10                   2.0          13.0          5.0       3-17   \n",
       "1  4.200356e+10                   5.0          28.0          6.0       1-19   \n",
       "2  4.200316e+10                   3.0          16.0          3.0       4-24   \n",
       "3  4.200356e+10                   1.0          23.0          1.0        1-6   \n",
       "4  4.200311e+10                   2.0          11.0          5.0        3-9   \n",
       "\n",
       "    latitude  longitude  \n",
       "0  40.458169 -79.889724  \n",
       "1  40.429269 -80.067868  \n",
       "2  40.426797 -79.965035  \n",
       "3  40.455503 -79.999276  \n",
       "4  40.476667 -79.924106  \n",
       "\n",
       "[5 rows x 58 columns]"
      ]
     },
     "execution_count": 19,
     "metadata": {},
     "output_type": "execute_result"
    }
   ],
   "source": [
    "trees = pd.read_csv(\"PittsburghTrees.csv\", low_memory=False)\n",
    "trees.head()"
   ]
  },
  {
   "cell_type": "markdown",
   "metadata": {},
   "source": [
    "Read the data from PittsburghTrees.csv and print the first 5 rows of listed data"
   ]
  },
  {
   "cell_type": "code",
   "execution_count": 20,
   "metadata": {},
   "outputs": [],
   "source": [
    "num_trees = trees[\"neighborhood\"].value_counts()"
   ]
  },
  {
   "cell_type": "markdown",
   "metadata": {},
   "source": [
    "Count the number of trees in each neighborhood."
   ]
  },
  {
   "cell_type": "code",
   "execution_count": 22,
   "metadata": {},
   "outputs": [
    {
     "data": {
      "text/plain": [
       "<matplotlib.axes._subplots.AxesSubplot at 0x7f98c6db2610>"
      ]
     },
     "execution_count": 22,
     "metadata": {},
     "output_type": "execute_result"
    },
    {
     "data": {
      "image/png": "[encoded data removed]",
      "text/plain": [
       "<Figure size 432x288 with 1 Axes>"
      ]
     },
     "metadata": {
      "needs_background": "light"
     },
     "output_type": "display_data"
    }
   ],
   "source": [
    "query_mask = num_trees > 500\n",
    "lots_of_trees = num_trees[query_mask]\n",
    "lots_of_trees.plot.bar()"
   ]
  },
  {
   "cell_type": "markdown",
   "metadata": {},
   "source": [
    "A bar chart of the neighborhoods with over 500 trees. "
   ]
  },
  {
   "cell_type": "markdown",
   "metadata": {},
   "source": [
    "The more trees a neighborhood has the better, so this is an easy way to visualize the top candidates for the best neoghborhood for a kid. Based on only the tree data, the best neighborhoods are Squirrel Hill South, Highland Park, and Squirrel Hill North. The worst are the ones not included in the bar graph. "
   ]
  },
  {
   "cell_type": "markdown",
   "metadata": {},
   "source": [
    "**Scores:** \n",
    "\n",
    "5 - Squirrel Hill South\n",
    "\n",
    "4 - Highland Park\n",
    "\n",
    "3 - Squirrel Hill North\n",
    "\n",
    "2 - South Side Flats\n",
    "\n",
    "1 - Shadyside"
   ]
  },
  {
   "cell_type": "markdown",
   "metadata": {},
   "source": [
    "# Conclusions"
   ]
  },
  {
   "cell_type": "markdown",
   "metadata": {},
   "source": [
    "**Final Scores**\n",
    "\n",
    "15 - Squirrel Hill South\n",
    "\n",
    "4 - Highland Park, East Liberty, Carrick\n",
    "\n",
    "3 - Squirrel Hill North, Beechview, Polish Hill\n",
    "\n",
    "2 - South Side Flats, Allegheny Center, North Oakland\n",
    "\n",
    "1 - Shadyside, South Side Slopes, Upper Hill"
   ]
  },
  {
   "cell_type": "markdown",
   "metadata": {},
   "source": [
    "> **Kathryn:** After doing this project, I learned that most neighborhoods in Pittsburgh are all very safe, since it was pretty close between all of them. I am not from Pittsburgh, but since the data showed that Squirrel Hill South had the most of everything, it must be pretty safe. So I would personally say that's my favorite neighborhood.\n",
    "\n",
    "> **Emily:** I'm from the suburbs of PA, so I'm used to the places around me having lots of trees, a good amount of parks, and a surprising amount of speed bumps. I haven't had to chance to explore most of the neighborhoods in Pittsburgh, so I can't say for sure which one would be my favorite. After looking at this data I think Squirrel Hill South would be my favorite, just because it seems to be the most similar to where I grew up.  \n",
    "\n",
    "> **Juli:** The most fun neighborhood for a kid is Squirrel Hill South. It has the most trees by far, with over 2000 more than its closest competitor, Highland Park. Squirrel Hill South also has the most speed bumps and playground equipment, further proving that it is the winner. I have been in Squirrel Hill South before but never have stayed long, but with this data I am confident in my choice.\n",
    "\n",
    "\n",
    "In conclusion, the data proves that Squirrel Hill South is the most fun neighborhood for a kid. It got a 5 with each of our data sets, earning it a total score of 15. Not only did it get the most points from each dataset, bit it was the only neighborhood to interlap in the top 5. It has the most trees to climb, the safest roads, and the most playground equipment, proving it is the best."
   ]
  },
  {
   "cell_type": "code",
   "execution_count": null,
   "metadata": {},
   "outputs": [],
   "source": []
  }
 ],
 "metadata": {
  "kernelspec": {
   "display_name": "Python 3",
   "language": "python",
   "name": "python3"
  },
  "language_info": {
   "codemirror_mode": {
    "name": "ipython",
    "version": 3
   },
   "file_extension": ".py",
   "mimetype": "text/x-python",
   "name": "python",
   "nbconvert_exporter": "python",
   "pygments_lexer": "ipython3",
   "version": "3.8.3"
  }
 },
 "nbformat": 4,
 "nbformat_minor": 4
}
